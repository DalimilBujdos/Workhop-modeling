{
 "cells": [
  {
   "cell_type": "markdown",
   "metadata": {},
   "source": [
    "### The Modelling Workhop 2020.12.22.##"
   ]
  },
  {
   "cell_type": "markdown",
   "metadata": {},
   "source": [
    "Before we start modeling, it is necessary to know the basic parameters of the tools we will work with. Let Dalimil explain what is the difference between IDE and programing language.\n",
    "\n",
    "As he speak, click on the dropdown menu \"help\" in the top bar and then on User Interface Tour. Enjoy the tour!\n",
    "\n",
    "Note: Modeling with one \"l\" is mostly  the U.S. whereas modelling everywhere else."
   ]
  },
  {
   "cell_type": "markdown",
   "metadata": {},
   "source": [
    "For computational modeling, you should be familiar with basic python commands and functions."
   ]
  },
  {
   "cell_type": "code",
   "execution_count": null,
   "metadata": {},
   "outputs": [],
   "source": [
    "# import the basic lib\n",
    "\n",
    "\n",
    "# import the most popular analytical lib with the correct alias\n",
    "\n",
    "# set unconstrained tables\n",
    "pd.set_option('display.max_colwidth', None)\n",
    "pd.options.display.max_rows = 9999\n",
    "\n",
    "# import the most popular plotting library (it will not be used here but its the basis in every session)\n",
    "\n",
    "\n",
    "# choose the standart style\n",
    "matplotlib.style.use('ggplot')\n",
    "# set graph display in out IDE window \n",
    "%matplotlib inline\n",
    "\n",
    "# for optional fun\n",
    "import numpy as np\n",
    "\n",
    "# show interactive output in cells - sometimes necessary for builder()\n",
    "from IPython.core.interactiveshell import InteractiveShell\n",
    "InteractiveShell.ast_node_interactivity = \"all\"\n",
    "\n",
    "# import visualization widget\n",
    "\n",
    "\n",
    "\n",
    "# import timing - again not used in this session but a handy tool anaway \n",
    "from time import sleep\n",
    "\n",
    "# notice how kernel started working"
   ]
  },
  {
   "cell_type": "code",
   "execution_count": null,
   "metadata": {},
   "outputs": [],
   "source": [
    "# test the fuctionality of imported libs\n",
    "cobra.__version__\n",
    "\n",
    "# test the version of pandas, matplotlib and numpy\n"
   ]
  },
  {
   "cell_type": "code",
   "execution_count": null,
   "metadata": {},
   "outputs": [],
   "source": [
    "# importing the model\n",
    "M = cobra.io.load_json_model(r\"your_string\")\n",
    "# importing .mat model is just as easy. However, working with SBML is tricky and requires another lib (see documentation).\n",
    "\n",
    "# let Dalimil explain how models are named\n",
    "\n",
    "# note: SBML Pseudomonas model iJN1463 could not be imported due to error during id parsing"
   ]
  },
  {
   "cell_type": "code",
   "execution_count": null,
   "metadata": {},
   "outputs": [],
   "source": [
    "# keep the original version of model unaltered - knock_out()\n",
    "model = M.copy()\n",
    "# ALWAYS ASSING THE MODEL TO VARIABLE MODEL!!"
   ]
  },
  {
   "cell_type": "code",
   "execution_count": null,
   "metadata": {},
   "outputs": [],
   "source": [
    "# look at some basic stats\n",
    "model"
   ]
  },
  {
   "cell_type": "code",
   "execution_count": null,
   "metadata": {},
   "outputs": [],
   "source": [
    "# let Dalimil explain what dot notation is and then explore the two main components of S matrix:\n",
    "# reactions and metaboltites\n",
    "model."
   ]
  },
  {
   "cell_type": "markdown",
   "metadata": {},
   "source": [
    "Reactions"
   ]
  },
  {
   "cell_type": "code",
   "execution_count": null,
   "metadata": {},
   "outputs": [],
   "source": [
    "# look at bounds name and reaction string\n",
    "model.reactions..bounds\n",
    "model.reactions..name\n",
    "model.reactions..reaction"
   ]
  },
  {
   "cell_type": "code",
   "execution_count": null,
   "metadata": {},
   "outputs": [],
   "source": [
    "# print separate bounds\n"
   ]
  },
  {
   "cell_type": "markdown",
   "metadata": {},
   "source": [
    "Metabolites"
   ]
  },
  {
   "cell_type": "code",
   "execution_count": null,
   "metadata": {},
   "outputs": [],
   "source": [
    "# look at name, compartment, charge and formula of glucose\n",
    "model.metabolites.glu__D_c"
   ]
  },
  {
   "cell_type": "code",
   "execution_count": null,
   "metadata": {},
   "outputs": [],
   "source": [
    "# print all reactions that produce/consume glucose\n",
    "model.metabolites..reactions"
   ]
  },
  {
   "cell_type": "markdown",
   "metadata": {},
   "source": [
    "Genes"
   ]
  },
  {
   "cell_type": "code",
   "execution_count": null,
   "metadata": {},
   "outputs": [],
   "source": [
    "# there is a difference between GPR and actual genes\n",
    "model.reactions..gene_reaction_rule # a boolean representation of required gene(s)\n",
    "model.reactions..genes # a gene object"
   ]
  },
  {
   "cell_type": "code",
   "execution_count": null,
   "metadata": {},
   "outputs": [],
   "source": [
    "# genes(loci) can also be accessed separately\n",
    "model.genes."
   ]
  },
  {
   "cell_type": "markdown",
   "metadata": {},
   "source": [
    "Adding new metabolites and reactions\n",
    "\n",
    "\n",
    "You were given the task of adding reactions to the model leading to the synthesis of polyhydroxybutyrate. Our goal is to show the ability of the model/bacterium to produce this compound.\n",
    "These reactions are:\n",
    "\n",
    "Ketothiolase PhaA\n",
    "aacoa_c + coa_c ⇌ 2.0 accoa_c\n",
    "\n",
    "Acetoacetyl-CoA reductase PhaB\n",
    "aacoa_c + h_c + nadph_c ⇌ nadp_c + 3hbcoa__R_c\n",
    "\n",
    "PHB synthetase PhaC\n",
    "3hbcoa__R_c ⇌ coa_c + phb_c\n",
    "\n",
    "First, it would be good to find their ID and check if the are not in the model already.\n",
    "Next, do the same with metabolites.\n",
    "\n",
    "What metabolites and reactions we need to add?"
   ]
  },
  {
   "cell_type": "code",
   "execution_count": null,
   "metadata": {},
   "outputs": [],
   "source": [
    "# import before the task\n",
    "from __future__ import print_function\n",
    "from cobra import Model, Reaction, Metabolite"
   ]
  },
  {
   "cell_type": "code",
   "execution_count": null,
   "metadata": {},
   "outputs": [],
   "source": [
    "# adding a metabolite\n",
    " = Metabolite(\n",
    "'',\n",
    "formula='',\n",
    "name='',\n",
    "compartment='')\n",
    "# print the metabolite below\n"
   ]
  },
  {
   "cell_type": "code",
   "execution_count": null,
   "metadata": {},
   "outputs": [],
   "source": [
    "# adding a reaction\n",
    " = Reaction(\"\") #ID\n",
    ".name = \"\" # full reaction name\n",
    ".subsystem = \"PHB synthesis\" # e.g. Alternate Carbon Metabolism, nebo Central metabolism atd...\n",
    ".lower_bound = . \n",
    ".upper_bound = . # you can also leave the default set.\n",
    "# print the reaction below\n"
   ]
  },
  {
   "cell_type": "code",
   "execution_count": null,
   "metadata": {},
   "outputs": [],
   "source": [
    "# adding reaction string\n",
    ".add_metabolites({}) # metabolites are added as dict\n",
    "\n",
    "\n",
    "# aacoa_c + h_c + nadph_c ⇌ nadp_c + 3hbcoa__R_c\n",
    "# print the reaction below\n",
    ".reaction\n",
    "\n",
    "# reaction could be also build from string, but its dumb"
   ]
  },
  {
   "cell_type": "code",
   "execution_count": null,
   "metadata": {},
   "outputs": [],
   "source": [
    "# add GPR\n",
    ".gene_reaction_rule = \"()\"\n",
    ".genes"
   ]
  },
  {
   "cell_type": "code",
   "execution_count": null,
   "metadata": {},
   "outputs": [],
   "source": [
    "# verify that everything in the reaction is as it should be and save the reaction\n",
    "model.add_reactions([])\n",
    "# check the whole reaction again\n",
    "model.reactions."
   ]
  },
  {
   "cell_type": "code",
   "execution_count": null,
   "metadata": {},
   "outputs": [],
   "source": [
    "# finally check the mass balance of the reactions you just added\n",
    ".check_mass_balance()\n",
    "# mass balanced reaction should return empty list\n",
    "# discuss results with Dalimil"
   ]
  },
  {
   "cell_type": "code",
   "execution_count": null,
   "metadata": {},
   "outputs": [],
   "source": [
    "# then save the model to a new file\n",
    "cobra.io.save_json_model(model = model, filename = \"\") # don't forget to add the .json extension"
   ]
  },
  {
   "cell_type": "markdown",
   "metadata": {},
   "source": [
    "Definition of a linear problem"
   ]
  },
  {
   "cell_type": "code",
   "execution_count": null,
   "metadata": {},
   "outputs": [],
   "source": [
    "# look at the current objective function\n",
    "from cobra.util.solver import linear_reaction_coefficients\n",
    "linear_reaction_coefficients(model)"
   ]
  },
  {
   "cell_type": "code",
   "execution_count": null,
   "metadata": {},
   "outputs": [],
   "source": [
    "# set a new objective\n",
    "model.objective = \"PHBS_syn_1\""
   ]
  },
  {
   "cell_type": "code",
   "execution_count": null,
   "metadata": {},
   "outputs": [],
   "source": [
    "# define the cultivation medium\n",
    "model.medium\n",
    "# what kind of medium is it?"
   ]
  },
  {
   "cell_type": "code",
   "execution_count": null,
   "metadata": {},
   "outputs": [],
   "source": [
    "# do you see a carbon source there?\n",
    "# set it on 10 mmol/gCDW/h\n",
    "\n",
    "model.reactions.EX_glc__D_e.lower_bound = \n",
    "model.reactions.EX_glc__D_e.upper_bound = \n",
    "\n",
    "# OPTIMIZE!!\n",
    "solution = model.optimize()\n",
    "flux = solution.fluxes\n",
    "\n",
    "solution\n",
    "# is the result something that you would expect?\n",
    "# consult with Dalimil (and with your newly gained knowledge) where the mistake occured"
   ]
  },
  {
   "cell_type": "code",
   "execution_count": null,
   "metadata": {},
   "outputs": [],
   "source": [
    "# fix the problem here!\n"
   ]
  },
  {
   "cell_type": "code",
   "execution_count": null,
   "metadata": {},
   "outputs": [],
   "source": [
    "# look at the fluxes of your reactions\n",
    "model.reactions.KAT1.flux\n",
    "model.reactions.AACOAR_syn.flux\n",
    "model.reactions.PHBS_syn_1.flux"
   ]
  },
  {
   "cell_type": "code",
   "execution_count": null,
   "metadata": {},
   "outputs": [],
   "source": [
    "# look at what is excreted or transported into cytoplasm\n",
    "exchage_reactions = []\n",
    "for reaction in flux.index:\n",
    "    if \"EX_\" in reaction:\n",
    "        exchage_reactions.append(reaction)\n",
    "flux[exchage_reactions].sort_values(ascending = True)"
   ]
  },
  {
   "cell_type": "code",
   "execution_count": null,
   "metadata": {},
   "outputs": [],
   "source": [
    "# you can also check individual compound(s)\n",
    "model.metabolites..summary()"
   ]
  },
  {
   "cell_type": "code",
   "execution_count": null,
   "metadata": {},
   "outputs": [],
   "source": [
    "# save the solution for later visualization - save as an .json object (Others are not permitted in escher)\n",
    "import json\n",
    "flux_dictionary = flux.to_dict()\n",
    "with open('.json', 'w') as f:\n",
    "    json.dump(flux_dictionary, f)"
   ]
  },
  {
   "cell_type": "markdown",
   "metadata": {},
   "source": [
    "Simple glucose simulation"
   ]
  },
  {
   "cell_type": "code",
   "execution_count": null,
   "metadata": {},
   "outputs": [],
   "source": [
    "# as you are already a semi-pro modeller try to simulate simple growth on glucose\n",
    "# (resonable glucose uptake is 6 mmol/gCDW/h)\n",
    "# save the solution\n",
    "model.reactions.EX_glc__D_e.lower_bound = -6\n",
    "model.reactions.EX_glc__D_e.upper_bound = 0\n",
    "\n",
    "# OPTIMIZE!!\n",
    "solution = model.optimize()\n",
    "solution"
   ]
  },
  {
   "cell_type": "code",
   "execution_count": null,
   "metadata": {},
   "outputs": [],
   "source": [
    "# look at fluxes through PHA synthesis reactions\n",
    "list_noprod_rxn = []\n",
    "for x in model.reactions:\n",
    "    if x.products == []:\n",
    "        list_noprod_rxn.append(x.id)\n",
    "\n",
    "df = pd.DataFrame(list_noprod_rxn)\n",
    "#df\n",
    "\n",
    "PHA_rxn = []\n",
    "for y in df[0]:\n",
    "    if \"PHA\" in str(y):\n",
    "        PHA_rxn.append(y)\n",
    "    else:\n",
    "        pass\n",
    "#PHA_rxn\n",
    "\n",
    "\n",
    "PHA_flux = []\n",
    "for z in PHA_rxn:\n",
    "    PHA_flux.append(model.reactions.get_by_id(z).flux)\n",
    "\n",
    "df1 = pd.DataFrame([PHA_rxn, PHA_flux])\n",
    "df1.transpose()"
   ]
  },
  {
   "cell_type": "markdown",
   "metadata": {},
   "source": [
    "Simulation of reaction deletion"
   ]
  },
  {
   "cell_type": "code",
   "execution_count": null,
   "metadata": {},
   "outputs": [],
   "source": [
    "# with the knowledge you already have try to simulate deletion of glucose dehydrogenase reaction (gcd)\n",
    "# again save the solution"
   ]
  },
  {
   "cell_type": "code",
   "execution_count": null,
   "metadata": {},
   "outputs": [],
   "source": []
  },
  {
   "cell_type": "code",
   "execution_count": null,
   "metadata": {},
   "outputs": [],
   "source": [
    "# Now try to simulate MOMA of the same gcd deletion"
   ]
  },
  {
   "cell_type": "code",
   "execution_count": null,
   "metadata": {},
   "outputs": [],
   "source": [
    "from cameo.flux_analysis.simulation import lmoma"
   ]
  },
  {
   "cell_type": "code",
   "execution_count": null,
   "metadata": {},
   "outputs": [],
   "source": [
    "\n",
    "\n",
    "lmoma_result = lmoma(model, reference = solution.fluxes)\n",
    "\n",
    "lmoma_result[model.reactions.BIOMASS_KT2440_WT3]"
   ]
  },
  {
   "cell_type": "markdown",
   "metadata": {},
   "source": [
    "Visualization"
   ]
  },
  {
   "cell_type": "code",
   "execution_count": null,
   "metadata": {},
   "outputs": [],
   "source": [
    "# its almost like a malování\n",
    "Builder()\n",
    "# for most purposes the web version is recommanded!\n",
    "# https://escher.github.io/#/"
   ]
  },
  {
   "cell_type": "code",
   "execution_count": null,
   "metadata": {},
   "outputs": [],
   "source": [
    ""
   ]
  },
  {
   "cell_type": "markdown",
   "metadata": {},
   "source": [
    "### BONUS homework ###"
   ]
  },
  {
   "cell_type": "code",
   "execution_count": null,
   "metadata": {},
   "outputs": [],
   "source": [
    "# this piece of code compared two different flux solutions are returns their differences (upregul, downregul, activated...)\n",
    "index = 0\n",
    "neg_reaction_id = []\n",
    "neg_flux = []\n",
    "pos_reaction_id = []\n",
    "pos_flux = []\n",
    "control_id = []\n",
    "control_flux = []\n",
    "no_control_flux = []\n",
    "flux_here = []\n",
    "control_neg_id = []\n",
    "control_flux_neg = []\n",
    "no_control_flux_neg = []\n",
    "flux_here_neg = []\n",
    "neg_flux_cont_id = []\n",
    "neg_flux_cont = []\n",
    "neg_flux_xyl_id = []\n",
    "neg_flux_xyl = []\n",
    "downregul_id = []\n",
    "downregul_value = []\n",
    "upregul_id = []\n",
    "upregul_value = []\n",
    "useless_reactions = []\n",
    "\n",
    "# první je analyzovaný model = i\n",
    "# druhý je srovnávaná kontrola = ii\n",
    "for i, ii in zip(met_gluk, met_gluk):\n",
    "    if i == 0 and ii == 0:\n",
    "        pass\n",
    "    elif i == ii:\n",
    "        pass\n",
    "    elif i > 0 and ii < 0:\n",
    "        if i - ii > 0.5:\n",
    "            pos_reaction_id.append(met_xyl_gluk.index.values[index])\n",
    "            pos_flux.append(i - ii)\n",
    "        else:\n",
    "            pass\n",
    "    elif i < 0 and ii > 0:\n",
    "        if ii - i > 0.5:\n",
    "            neg_reaction_id.append(met_xyl_gluk.index.values[index])\n",
    "            neg_flux.append(ii-i)\n",
    "        else:\n",
    "            pass\n",
    "    elif i == 0 and ii > 0:\n",
    "        control_id.append(met_xyl_gluk.index.values[index])\n",
    "        control_flux.append(ii)\n",
    "    elif ii == 0 and i > 0:\n",
    "        no_control_flux.append(met_xyl_gluk.index.values[index])\n",
    "        flux_here.append(i)\n",
    "    elif i == 0 and ii < 0:\n",
    "        control_neg_id.append(met_xyl_gluk.index.values[index])\n",
    "        control_flux_neg.append(ii)\n",
    "    elif ii == 0 and i < 0:\n",
    "        no_control_flux_neg.append(met_xyl_gluk.index.values[index])\n",
    "        flux_here_neg.append(i)\n",
    "    elif abs(ii) > abs(i) and ii / i >= 1.5:\n",
    "        downregul_id.append(met_xyl_gluk.index.values[index])\n",
    "        downregul_value.append(ii / i)\n",
    "    elif abs(i) > abs(ii) and i / ii >= 1.5:\n",
    "        upregul_id.append(met_xyl_gluk.index.values[index])\n",
    "        upregul_value.append(i / ii)\n",
    "    else:\n",
    "        useless_reactions.append(met_xyl_gluk.index.values[index])  \n",
    "                        \n",
    "    index = index + 1\n",
    "\n",
    "#useless_reactions\n",
    "print(\"Reactions with positive flux in model but negative in control\")    \n",
    "name_pos_flux = []\n",
    "for r in pos_reaction_id:\n",
    "    var_name9 =  model.reactions.get_by_id(r).name\n",
    "    name_pos_flux.append(var_name9)\n",
    "\n",
    "pos_sum = pd.Series(data = pos_flux, index =  name_pos_flux, name = \"fluxes difference\")\n",
    "\n",
    "pos_sum.to_frame()\n",
    "\n",
    "\n",
    "print(\"Reactions with negative flux in model and positive in control\")\n",
    "name_neg_flux = []\n",
    "for q in neg_reaction_id:\n",
    "    var_name8 =  model.reactions.get_by_id(q).name\n",
    "    name_neg_flux.append(var_name8)\n",
    "\n",
    "neg_sum = pd.Series(data = neg_flux, index =  name_neg_flux, name = \"fluxes difference\")\n",
    "\n",
    "neg_sum.to_frame()\n",
    "\n",
    "print(\"No flux in model but X positive flux in control\")\n",
    "name_reactions_control = []\n",
    "for b in control_id:\n",
    "    var_name6 = model.reactions.get_by_id(b).name\n",
    "    name_reactions_control.append(var_name6)\n",
    "\n",
    "control = pd.Series(data = control_flux, index = name_reactions_control, name = \"fluxes\")\n",
    "\n",
    "control.to_frame()\n",
    "\n",
    "print(\"No flux in control but X positive flux in model\")\n",
    "\n",
    "name_reactions_no_control = []\n",
    "for s in no_control_flux:\n",
    "    var_name = model.reactions.get_by_id(s).name\n",
    "    name_reactions_no_control.append(var_name)\n",
    "\n",
    "no_control = pd.Series(data = flux_here, index = name_reactions_no_control, name = \"fluxes\")\n",
    "\n",
    "no_control.to_frame()\n",
    "\n",
    "print(\"No flux in model but X negative flux in control\")\n",
    "\n",
    "name_reactions_neg_control = []\n",
    "for x in control_neg_id:\n",
    "    var_name = model.reactions.get_by_id(x).name\n",
    "    name_reactions_neg_control.append(var_name)\n",
    "\n",
    "\n",
    "neg_control = pd.Series(data = control_flux_neg, index = name_reactions_neg_control, name = \"fluxes\")\n",
    "\n",
    "neg_control.to_frame()\n",
    "\n",
    "print(\"No flux in control but X negative flux in model\")\n",
    "\n",
    "name_reactions_neg_no_control = []\n",
    "for y in no_control_flux_neg:\n",
    "    var_name = model.reactions.get_by_id(y).name\n",
    "    name_reactions_neg_no_control.append(var_name)\n",
    "\n",
    "neg_no_control = pd.Series(data = flux_here_neg, index = name_reactions_neg_no_control, name = \"fluxes\")\n",
    "\n",
    "neg_no_control.to_frame()\n",
    "\n",
    "print(\"Reactions that are X fold downregulated\")\n",
    "\n",
    "name_reactions_downregul = []\n",
    "for d in downregul_id:\n",
    "    var_name1 = model.reactions.get_by_id(d).name\n",
    "    name_reactions_downregul.append(var_name1)\n",
    "\n",
    "\n",
    "downregul = pd.Series(data = downregul_value, index = name_reactions_downregul, name = \"X fold downregulated\")\n",
    "\n",
    "downregul.to_frame()\n",
    "\n",
    "print(\"Reactions that are X fold upregulated\")\n",
    "\n",
    "name_reactions_upregul = []\n",
    "for o in upregul_id:\n",
    "    var_name3 = model.reactions.get_by_id(o).name\n",
    "    name_reactions_upregul.append(var_name3)\n",
    "\n",
    "upregul = pd.Series(data = upregul_value, index = name_reactions_upregul, name = \"X fold upregulated\")\n",
    "\n",
    "upregul.to_frame()"
   ]
  }
 ],
 "metadata": {
  "kernelspec": {
   "display_name": "FBA3",
   "language": "python",
   "name": "fba3"
  },
  "language_info": {
   "codemirror_mode": {
    "name": "ipython",
    "version": 3
   },
   "file_extension": ".py",
   "mimetype": "text/x-python",
   "name": "python",
   "nbconvert_exporter": "python",
   "pygments_lexer": "ipython3",
   "version": "3.6.10"
  }
 },
 "nbformat": 4,
 "nbformat_minor": 4
}
